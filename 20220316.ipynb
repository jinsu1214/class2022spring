{
  "nbformat": 4,
  "nbformat_minor": 0,
  "metadata": {
    "colab": {
      "name": "Untitled1.ipynb",
      "provenance": [],
      "collapsed_sections": [],
      "authorship_tag": "ABX9TyMErz64vC+/vwVoB63q7K35",
      "include_colab_link": true
    },
    "kernelspec": {
      "name": "python3",
      "display_name": "Python 3"
    },
    "language_info": {
      "name": "python"
    }
  },
  "cells": [
    {
      "cell_type": "markdown",
      "metadata": {
        "id": "view-in-github",
        "colab_type": "text"
      },
      "source": [
        "<a href=\"https://colab.research.google.com/github/jinsu1214/class2022spring/blob/main/20220316.ipynb\" target=\"_parent\"><img src=\"https://colab.research.google.com/assets/colab-badge.svg\" alt=\"Open In Colab\"/></a>"
      ]
    },
    {
      "cell_type": "markdown",
      "source": [
        "영어음성학응용 정리\n",
        "\n"
      ],
      "metadata": {
        "id": "sKxoaTrD1bdn"
      }
    },
    {
      "cell_type": "markdown",
      "source": [
        "1. 변수\n",
        "-number\n",
        "Number 안에는 숫자가 들어가는데 안에 들어가는 숫자가 정수인지 소수인지에 따라서 type이 바뀐다. 소수점이 없는 정수는 int, 소수점이 있으면 float이라고 표현한다. "
      ],
      "metadata": {
        "id": "Jdfj86v52cgj"
      }
    },
    {
      "cell_type": "code",
      "execution_count": null,
      "metadata": {
        "colab": {
          "base_uri": "https://localhost:8080/"
        },
        "id": "7GLBy6ts1aDv",
        "outputId": "4a4bf5bd-1471-4e4f-9fee-f0a31b7ce6f5"
      },
      "outputs": [
        {
          "output_type": "stream",
          "name": "stdout",
          "text": [
            "<class 'int'>\n",
            "<class 'float'>\n"
          ]
        }
      ],
      "source": [
        "a=1; b=2.1\n",
        "print(type(a)); print(type(b))"
      ]
    },
    {
      "cell_type": "markdown",
      "source": [
        "주의할 점: 1은 정수이지만 1.0은 정수가 아니다 1은 int이고 1.0은 float!!"
      ],
      "metadata": {
        "id": "sk-H7xFM3ezn"
      }
    },
    {
      "cell_type": "code",
      "source": [
        "a=1; b=1.0\n",
        "print(type(a)); print(type(b))"
      ],
      "metadata": {
        "colab": {
          "base_uri": "https://localhost:8080/"
        },
        "id": "SQJ6ZiMi3o9N",
        "outputId": "32f36477-b575-4c2e-982c-ffd4a443a2a7"
      },
      "execution_count": null,
      "outputs": [
        {
          "output_type": "stream",
          "name": "stdout",
          "text": [
            "<class 'int'>\n",
            "<class 'float'>\n"
          ]
        }
      ]
    },
    {
      "cell_type": "markdown",
      "source": [
        "-string String은 항상 ‘ ‘나 “ “가 꼭 붙는다. 이 둘의 차이점은 없기에 아무거나 사용해도 괜찮다. 그리고 만약 안에 a=’123’처럼 글자가 아닌 숫자가 들어갔다고 하더라도 ‘ ‘가 붙어있기 때문에 string이라고 본다."
      ],
      "metadata": {
        "id": "0pxoBSuc3yOD"
      }
    },
    {
      "cell_type": "code",
      "source": [
        "a='about'; b='1'\n",
        "print(type(a)); print(type(b))\n",
        "a[1]"
      ],
      "metadata": {
        "colab": {
          "base_uri": "https://localhost:8080/",
          "height": 72
        },
        "id": "Xd7ZsQU2372e",
        "outputId": "d5fa5ba5-d2f8-4ffa-dbd8-3ac8afef2089"
      },
      "execution_count": null,
      "outputs": [
        {
          "output_type": "stream",
          "name": "stdout",
          "text": [
            "<class 'str'>\n",
            "<class 'str'>\n"
          ]
        },
        {
          "output_type": "execute_result",
          "data": {
            "text/plain": [
              "'b'"
            ],
            "application/vnd.google.colaboratory.intrinsic+json": {
              "type": "string"
            }
          },
          "metadata": {},
          "execution_count": 9
        }
      ]
    },
    {
      "cell_type": "markdown",
      "source": [
        "위의 예시에서 a[1]이 의미하는 것은 변수를 나타내는 string중에서 첫번째를 가져오라는 의미이다. 근데 여기서 a가 아니라 b를 가져온 이유는 파이썬에서는 0부터 시작이기에 a가 0번째이고 b가 첫번째이기 때문이다. 한가지 더 알아두면 좋은 것은 만약에 print를 실행해야 하는 상황인데 마지막 줄이면 print를 생략하고 a[1] 만 적어도 print를 하라는 의미를 가지게 된다. "
      ],
      "metadata": {
        "id": "btSPhuQ84f8G"
      }
    },
    {
      "cell_type": "markdown",
      "source": [
        "-list[ , , ] List는 변수를 여러 개 넣을 때 사용하고 안에는 숫자가 들어가도 괜찮고 문자가 들어가도 괜찮다. 심지어 list 안에 list가 들어가는 것도 허용된다. a=[1,2,3,4], a=[1,’a’,[3,’4’]]"
      ],
      "metadata": {
        "id": "vsst_SwJ40T_"
      }
    },
    {
      "cell_type": "markdown",
      "source": [
        "Index는 여러 개의 변수 중 일부분만 쓰고 싶을 때 사용한다. "
      ],
      "metadata": {
        "id": "8pJnA2mp5SSC"
      }
    },
    {
      "cell_type": "code",
      "source": [
        "a=[1,2,3,4,5,6,7,8,9,10]\n",
        "a[:]"
      ],
      "metadata": {
        "colab": {
          "base_uri": "https://localhost:8080/"
        },
        "id": "RjUddNKU5WEC",
        "outputId": "97aebb78-49cf-4dcc-bccb-4be40f0127d3"
      },
      "execution_count": null,
      "outputs": [
        {
          "output_type": "execute_result",
          "data": {
            "text/plain": [
              "[1, 2, 3, 4, 5, 6, 7, 8, 9, 10]"
            ]
          },
          "metadata": {},
          "execution_count": 12
        }
      ]
    },
    {
      "cell_type": "markdown",
      "source": [
        "a[:]는 전부 다를 의미한다"
      ],
      "metadata": {
        "id": "YXybmghB5kRE"
      }
    },
    {
      "cell_type": "code",
      "source": [
        "a[1:3]"
      ],
      "metadata": {
        "colab": {
          "base_uri": "https://localhost:8080/"
        },
        "id": "E009U-8K5pAm",
        "outputId": "9a88e128-cdc6-47c5-cb10-ba5103960407"
      },
      "execution_count": null,
      "outputs": [
        {
          "output_type": "execute_result",
          "data": {
            "text/plain": [
              "[2, 3]"
            ]
          },
          "metadata": {},
          "execution_count": 13
        }
      ]
    },
    {
      "cell_type": "markdown",
      "source": [
        "a[1:3]은 : 앞에 있는 숫자번째 변수는 포함시키고 :뒤에 있는 숫자번째 변수는 포함시키지 않는다는 것을 의미한다. 즉 첫번째 변수는 포함하지만 세번째 변수부터는 이용하지 않겠다는 의미이다"
      ],
      "metadata": {
        "id": "zBHSDnnU5vpM"
      }
    },
    {
      "cell_type": "code",
      "source": [
        "a[2:]"
      ],
      "metadata": {
        "colab": {
          "base_uri": "https://localhost:8080/"
        },
        "id": "jBEo9Pch59Na",
        "outputId": "2143ee00-b112-42d1-8184-a7428984c1bc"
      },
      "execution_count": null,
      "outputs": [
        {
          "output_type": "execute_result",
          "data": {
            "text/plain": [
              "[3, 4, 5, 6, 7, 8, 9, 10]"
            ]
          },
          "metadata": {},
          "execution_count": 14
        }
      ]
    },
    {
      "cell_type": "markdown",
      "source": [
        "a[2: ]는 2번째 변수부터 마지막 변수까지 포함한다는 의미 "
      ],
      "metadata": {
        "id": "mKXkv0JH6DWg"
      }
    },
    {
      "cell_type": "code",
      "source": [
        "a[2:-2]"
      ],
      "metadata": {
        "colab": {
          "base_uri": "https://localhost:8080/"
        },
        "id": "C9r1HGt56IT-",
        "outputId": "63fdee66-a00e-4318-9fac-2e04c4a50650"
      },
      "execution_count": null,
      "outputs": [
        {
          "output_type": "execute_result",
          "data": {
            "text/plain": [
              "[3, 4, 5, 6, 7, 8]"
            ]
          },
          "metadata": {},
          "execution_count": 15
        }
      ]
    },
    {
      "cell_type": "markdown",
      "source": [
        "원래 : 뒤에 들어가는 숫자번째 변수는 포함시키지 않는다는 것이 원칙이기에 : 뒤에 들어간 숫자가 – 를 가지고 있다고 해도 -2번 째 변수인 10을 포함하지 않는다는 의미이다. -2번째 변수는 뒤에서부터 -1번째로 시작하기에 9가 된다.\n",
        "list 안에 있는 list를 가져오고 싶을 때도 똑같이 하면 된다. "
      ],
      "metadata": {
        "id": "yjSH65FE6VyD"
      }
    },
    {
      "cell_type": "code",
      "source": [
        "a=[1,'2',[3,'4']]\n",
        "print(a[2][1])\n",
        "a[2][1]"
      ],
      "metadata": {
        "colab": {
          "base_uri": "https://localhost:8080/",
          "height": 54
        },
        "id": "w4cZUUMw6joD",
        "outputId": "b8adc92f-8f2c-4db1-9908-3ae4c5102519"
      },
      "execution_count": null,
      "outputs": [
        {
          "output_type": "stream",
          "name": "stdout",
          "text": [
            "4\n"
          ]
        },
        {
          "output_type": "execute_result",
          "data": {
            "text/plain": [
              "'4'"
            ],
            "application/vnd.google.colaboratory.intrinsic+json": {
              "type": "string"
            }
          },
          "metadata": {},
          "execution_count": 26
        }
      ]
    },
    {
      "cell_type": "markdown",
      "source": [
        "**하지만 왜 print를 붙이면 ' '가 없이 나오고 print 없이 쓰면 그냥 나오는지 이유를 모르겠다...**"
      ],
      "metadata": {
        "id": "5lLDraiS8Rwq"
      }
    },
    {
      "cell_type": "markdown",
      "source": [
        "가끔씩 list 대신에 tuple을 사용할 때가 있다 이 둘의 차이점은 list가 [ ]을 사용한다면 tuple은 ( )를 사용한다는 것이다. Tuple을 사용하는 이유는 사람들이 실수로 내부 정보를 변경할 수 있기 때문에 이를 방지하기 위해 변경이 불가능한 tuple을 사용한다."
      ],
      "metadata": {
        "id": "_o_WvBNr9X2y"
      }
    },
    {
      "cell_type": "markdown",
      "source": [
        "-dict dictionary의 줄임말, { }가 쓰인다. \n",
        "a={key : value} 로 표현하고 a[ ]에서 [ ]안에 key를 적으면 그에 대응하는 value가 나온다."
      ],
      "metadata": {
        "id": "JfBJeyu290MR"
      }
    },
    {
      "cell_type": "code",
      "source": [
        "a={1:'happy', 2:'sad', 3:'soso'}\n",
        "print(a[2])"
      ],
      "metadata": {
        "colab": {
          "base_uri": "https://localhost:8080/"
        },
        "id": "q02QOd9s98VG",
        "outputId": "3305dd97-1493-43f4-8380-af3df4042e23"
      },
      "execution_count": null,
      "outputs": [
        {
          "output_type": "stream",
          "name": "stdout",
          "text": [
            "sad\n"
          ]
        }
      ]
    },
    {
      "cell_type": "markdown",
      "source": [
        "Function (함수) : def 함수이름 (입력변수) :  ~~~~   return 출력변수\n",
        ": 적는 것 꼭 기억하기!\n",
        "함수는 만약 뒤에 ( )가 있으면 이것이 함수를 의미한다고 유추할 수 있다."
      ],
      "metadata": {
        "id": "fEB0aHhn-fI3"
      }
    },
    {
      "cell_type": "code",
      "source": [
        "def something (a,b):\n",
        "  return 2*a+b\n",
        "something(1,5)"
      ],
      "metadata": {
        "colab": {
          "base_uri": "https://localhost:8080/"
        },
        "id": "mf6LjpMg-h9I",
        "outputId": "0c418182-86f8-4524-de62-801a6f803474"
      },
      "execution_count": null,
      "outputs": [
        {
          "output_type": "execute_result",
          "data": {
            "text/plain": [
              "7"
            ]
          },
          "metadata": {},
          "execution_count": 37
        }
      ]
    },
    {
      "cell_type": "markdown",
      "source": [
        "Len=길이 띄어쓰기도 길이에 포함시킨다                               \n",
        "Upper=대문자화  \n",
        "Find= 특정 단어 찾기    \n",
        "Strip=처음과 끝의 공백 삭제  \n",
        "Split=띄어쓰기를 기준으로 하여 전부 쪼개기  \n",
        "Join=쪼개진거 합치기  \n",
        "Replace(a,b)= a를 b로 대체하기 \n",
        "\n",
        "\n"
      ],
      "metadata": {
        "id": "OD1fOWgYBPo5"
      }
    },
    {
      "cell_type": "code",
      "source": [
        "a=' this is what i like '\n",
        "print(len(a))\n",
        "print(a.upper( ))\n",
        "print(a.find('what'))\n",
        "print(a.strip( ))\n",
        "print(a.split(' '))\n",
        "print(' '.join(a.split(' ')))\n",
        "print(a.replace('like', 'hate'))"
      ],
      "metadata": {
        "colab": {
          "base_uri": "https://localhost:8080/"
        },
        "id": "LsM_7O7RBTvs",
        "outputId": "3ab32658-91a9-4472-a60b-75a2d87493d2"
      },
      "execution_count": null,
      "outputs": [
        {
          "output_type": "stream",
          "name": "stdout",
          "text": [
            "21\n",
            " THIS IS WHAT I LIKE \n",
            "9\n",
            "this is what i like\n",
            "['', 'this', 'is', 'what', 'i', 'like', '']\n",
            " this is what i like \n",
            " this is what i hate \n"
          ]
        }
      ]
    },
    {
      "cell_type": "markdown",
      "source": [
        "Syntax  \n",
        "-For: for i in a : (a에서 하나씩 받아서 i로 실행 = for-loop)  \n",
        "for 문법 아래 오는 명령에서는 무조건 띄어쓰기가 있어야 한다!!!"
      ],
      "metadata": {
        "id": "0S1feJpEF6R0"
      }
    },
    {
      "cell_type": "code",
      "source": [
        "a=[1,2,3,4]\n",
        "for i in range(len(a)):\n",
        " print(i)"
      ],
      "metadata": {
        "id": "7UXOu--jGLXw",
        "outputId": "30fbd9ff-43f4-444f-9da2-6c3c071e0de4",
        "colab": {
          "base_uri": "https://localhost:8080/"
        }
      },
      "execution_count": null,
      "outputs": [
        {
          "output_type": "stream",
          "name": "stdout",
          "text": [
            "0\n",
            "1\n",
            "2\n",
            "3\n"
          ]
        }
      ]
    },
    {
      "cell_type": "markdown",
      "source": [
        "*Range: range가 나오면 뒤에 있는 숫자를 기반으로 하여 list가 만들어진다. 이 때 만들어지는 list는 앞에서 배웠던 list의 index와 마찬가지로 앞에 나오는 숫자는 포함하고 뒤에 나오는 숫자는 포함하지 않는다는 뜻이다. 하지만 차이점은 index에서는 : 를 사용하고 range에서는 , 를 사용한다는 것이다.  \n",
        "Range5=[0,1,2,3,4] range(1,4)=[1,2,3]  \n",
        "For 문법을 두 번 이상 사용하는 것도 존재한다."
      ],
      "metadata": {
        "id": "-nG8uzXqHgxj"
      }
    },
    {
      "cell_type": "code",
      "source": [
        "for i in range(1,3):\n",
        "    for j in range(3,5):\n",
        "      print(i*j)"
      ],
      "metadata": {
        "id": "Y7pVmeTYIWk5",
        "colab": {
          "base_uri": "https://localhost:8080/"
        },
        "outputId": "a8cfbc14-bff1-4224-b41e-7e9c334cd998"
      },
      "execution_count": 3,
      "outputs": [
        {
          "output_type": "stream",
          "name": "stdout",
          "text": [
            "3\n",
            "4\n",
            "6\n",
            "8\n"
          ]
        }
      ]
    },
    {
      "cell_type": "markdown",
      "source": [
        "-If"
      ],
      "metadata": {
        "id": "qIMfF5BA533r"
      }
    },
    {
      "cell_type": "code",
      "source": [
        "a=0\n",
        "if a==0:\n",
        "  print(a)"
      ],
      "metadata": {
        "colab": {
          "base_uri": "https://localhost:8080/"
        },
        "id": "f3LKVD8K5_RJ",
        "outputId": "d37b503b-3de9-4081-e059-eef326b4e91d"
      },
      "execution_count": 4,
      "outputs": [
        {
          "output_type": "stream",
          "name": "stdout",
          "text": [
            "0\n"
          ]
        }
      ]
    },
    {
      "cell_type": "code",
      "source": [
        "a=1\n",
        "if a==0:\n",
        "  print(a)\n",
        "if a!=0:\n",
        "  print(a+1)"
      ],
      "metadata": {
        "colab": {
          "base_uri": "https://localhost:8080/"
        },
        "id": "BlAe_EIO6JQ0",
        "outputId": "4209f4c3-8f34-45e5-d7d7-e7b36e742704"
      },
      "execution_count": 14,
      "outputs": [
        {
          "output_type": "stream",
          "name": "stdout",
          "text": [
            "2\n"
          ]
        }
      ]
    },
    {
      "cell_type": "markdown",
      "source": [
        "=과 ==은 다르다 a=0은 0을 a의 변수로 설정한다는 뜻이고 a==0이 a와 0이 같다는 것을 의미  \n",
        "만약 ~가 아니라면을 표현하고 싶다면 != 로 표현하면 된다.  \n",
        "Else는 if 구문을 사용했을 때 if가 아니었을 때의 실행을 설정해둘 때 사용한다.\n",
        "따라서 내 생각에는 !=과 else 차이는 크게 있는 것 같지 않다… 차이점이 있다면 무엇일지 궁금하다\n"
      ],
      "metadata": {
        "id": "6iUghpgg7iZW"
      }
    },
    {
      "cell_type": "code",
      "source": [
        "a=1\n",
        "if a==0:\n",
        "  print(a)\n",
        "else:\n",
        "  print(a+1)"
      ],
      "metadata": {
        "colab": {
          "base_uri": "https://localhost:8080/"
        },
        "id": "bGPnVKos7vUM",
        "outputId": "9b2459ad-eb50-4a3a-b491-e1fdd5cddbf5"
      },
      "execution_count": 16,
      "outputs": [
        {
          "output_type": "stream",
          "name": "stdout",
          "text": [
            "2\n"
          ]
        }
      ]
    },
    {
      "cell_type": "markdown",
      "source": [
        "- For & If : 이 둘은 같이 쓰일 때도 존재한다. "
      ],
      "metadata": {
        "id": "RHCZaCs98B1q"
      }
    },
    {
      "cell_type": "code",
      "source": [
        "for i in range(1,3):\n",
        "  for j in range(3,5):\n",
        "    if j>=4:\n",
        "      print(i*j)"
      ],
      "metadata": {
        "colab": {
          "base_uri": "https://localhost:8080/"
        },
        "id": "cSsrFIGk8DyH",
        "outputId": "e88085d3-6d68-494d-b80e-378e1686beed"
      },
      "execution_count": 17,
      "outputs": [
        {
          "output_type": "stream",
          "name": "stdout",
          "text": [
            "4\n",
            "8\n"
          ]
        }
      ]
    },
    {
      "cell_type": "markdown",
      "source": [
        "List comprehension: For나 if가 list 안쪽에 있을 때 "
      ],
      "metadata": {
        "id": "kZxklfwZ8Uxa"
      }
    },
    {
      "cell_type": "code",
      "source": [
        "a=[1,2,3,4]\n",
        "b=[i for i in a if i>=2]\n",
        "print(b)"
      ],
      "metadata": {
        "colab": {
          "base_uri": "https://localhost:8080/"
        },
        "id": "un1Bpk2y8VmQ",
        "outputId": "5c5581c3-cc90-46b3-b3e6-2caf96a3dc49"
      },
      "execution_count": 18,
      "outputs": [
        {
          "output_type": "stream",
          "name": "stdout",
          "text": [
            "[2, 3, 4]\n"
          ]
        }
      ]
    },
    {
      "cell_type": "markdown",
      "source": [
        "Dict comprehension: For나 if가 dict 안쪽에 있을 때"
      ],
      "metadata": {
        "id": "ZuIjIGaJ8k9H"
      }
    },
    {
      "cell_type": "code",
      "source": [
        "a=[1,2,3,4]\n",
        "b=[10,20,30,40]\n",
        "c={a[i]:b[i] for i in range(4)}\n",
        "print(c)"
      ],
      "metadata": {
        "colab": {
          "base_uri": "https://localhost:8080/"
        },
        "id": "LtKlyoBr8ooK",
        "outputId": "af088d59-a89d-4cd4-f120-05e217db2514"
      },
      "execution_count": 19,
      "outputs": [
        {
          "output_type": "stream",
          "name": "stdout",
          "text": [
            "{1: 10, 2: 20, 3: 30, 4: 40}\n"
          ]
        }
      ]
    },
    {
      "cell_type": "markdown",
      "source": [
        "Import\n",
        "함수를 사용하기 위해서는 크게 세가지 방법이 존재한다.\n",
        "-Install\n",
        "-Import: 다른 곳에서 받아와 ram으로 올리는 것\n",
        "-Built-in: print와 같은 함수처럼 너무 유명해서 이미 설치되어 있는 것\n",
        "-Numpy: 숫자와 관련   import numpy as np (numpy를 np로 적기 쉽게 간편화하여 불러오기)\n",
        "n = np.random.randn(100) 100개의 random number를 만들어라 (0을 중심으로)\n",
        "-Matplotlib matplotlib.pyplot.hist(n) 만들어진 100개의 무작위 숫자를 사용해 histogram 만들기\n",
        "Import matplotlib       =  import matplotlib.pyplot as plt\n",
        "Matplotlib.pyplot.hist(n)     plt.hist(n)  \n",
        "또 다른 간편화 방법: From 사용하기\n",
        "From matplotlib import pyplot 을 하면 matplotlib를 쓰지 않아도 그 안에 있는 pyplot을 가져왔기에 쓴 것과 같은 결과 가져옴 -> pyplot.hist(n)\n",
        "From matplotlib.pyplot import hist(n) 도 가능\n",
        "\n"
      ],
      "metadata": {
        "id": "74ZziwfZ9CS7"
      }
    },
    {
      "cell_type": "markdown",
      "source": [
        "Matrix (행렬): 직사각형 숫자 배열   \n",
        "Impot numpy as np"
      ],
      "metadata": {
        "id": "cbkRkyS-9QQ9"
      }
    },
    {
      "cell_type": "code",
      "source": [
        "import numpy as np"
      ],
      "metadata": {
        "id": "7Q8kxDyZ9plD"
      },
      "execution_count": 20,
      "outputs": []
    },
    {
      "cell_type": "code",
      "source": [
        "x=np.array([1,2,3])\n",
        "print(x)\n",
        "print(x.shape)"
      ],
      "metadata": {
        "id": "YTpgkKoz9uOq",
        "outputId": "0ed650e9-c734-4e94-b4ad-4782ce7fdea9",
        "colab": {
          "base_uri": "https://localhost:8080/"
        }
      },
      "execution_count": 23,
      "outputs": [
        {
          "output_type": "stream",
          "name": "stdout",
          "text": [
            "[1 2 3]\n",
            "(3,)\n"
          ]
        }
      ]
    },
    {
      "cell_type": "markdown",
      "source": [
        " , 뒤가 비어있다는 것은 1d array라는 것을 의미하고 3은 세 개 짜리라는 것을 의미"
      ],
      "metadata": {
        "id": "6HaZluvB-P6t"
      }
    },
    {
      "cell_type": "markdown",
      "source": [
        "Arange: 등차수열..? "
      ],
      "metadata": {
        "id": "ruimwiu2-ZXC"
      }
    },
    {
      "cell_type": "code",
      "source": [
        "x=np.arange(0,10,2)\n",
        "x"
      ],
      "metadata": {
        "id": "UE3yZmbe-aJm",
        "outputId": "932be19e-f48c-46f7-a38f-39e4abcf3786",
        "colab": {
          "base_uri": "https://localhost:8080/"
        }
      },
      "execution_count": 24,
      "outputs": [
        {
          "output_type": "execute_result",
          "data": {
            "text/plain": [
              "array([0, 2, 4, 6, 8])"
            ]
          },
          "metadata": {},
          "execution_count": 24
        }
      ]
    },
    {
      "cell_type": "markdown",
      "source": [
        ") 0~10까지의 숫자 안에서 2씩 증가하라 하지만 index 때와 마찬가지로 , 뒤의 숫자인 10은 포함시키지 않는다"
      ],
      "metadata": {
        "id": "b4i6lB_z-lgE"
      }
    },
    {
      "cell_type": "markdown",
      "source": [
        "Linspace: 등분하기"
      ],
      "metadata": {
        "id": "svCQVwsM-mko"
      }
    },
    {
      "cell_type": "code",
      "source": [
        "x=np.linspace(0,10,6)\n",
        "print(x)\n",
        "x.shape"
      ],
      "metadata": {
        "id": "4nayyFww-oXf",
        "outputId": "df6f9c7f-ece7-4c0e-95c0-978b775b0d1c",
        "colab": {
          "base_uri": "https://localhost:8080/"
        }
      },
      "execution_count": 26,
      "outputs": [
        {
          "output_type": "stream",
          "name": "stdout",
          "text": [
            "[ 0.  2.  4.  6.  8. 10.]\n"
          ]
        },
        {
          "output_type": "execute_result",
          "data": {
            "text/plain": [
              "(6,)"
            ]
          },
          "metadata": {},
          "execution_count": 26
        }
      ]
    },
    {
      "cell_type": "markdown",
      "source": [
        "0~10까지의 숫자를 등분하여 6개의 숫자가 나오게 만들어라 이때 주의할 것은 arange와 달리 , 뒤의 숫자인 10도 포함할 것!!! "
      ],
      "metadata": {
        "id": "WSUqGdUU-8PI"
      }
    },
    {
      "cell_type": "markdown",
      "source": [
        "지금까지 1d array를 살펴봤다면 2d array에 대해 배워보자"
      ],
      "metadata": {
        "id": "hY_wlfpG-9WH"
      }
    },
    {
      "cell_type": "code",
      "source": [
        "x=np.array([[1,2,3],[4,5,6]])\n",
        "print(x)\n",
        "x.shape"
      ],
      "metadata": {
        "id": "Nu_JFzFV_EiO",
        "outputId": "bd52fb66-01b2-41d8-ab51-fe596d7f92f4",
        "colab": {
          "base_uri": "https://localhost:8080/"
        }
      },
      "execution_count": 27,
      "outputs": [
        {
          "output_type": "stream",
          "name": "stdout",
          "text": [
            "[[1 2 3]\n",
            " [4 5 6]]\n"
          ]
        },
        {
          "output_type": "execute_result",
          "data": {
            "text/plain": [
              "(2, 3)"
            ]
          },
          "metadata": {},
          "execution_count": 27
        }
      ]
    },
    {
      "cell_type": "markdown",
      "source": [
        "Print(x)를 했을 때 처음과 끝의 대괄호 개수가 nd에서 n을 결정한다. 따라서 위에서는 2d일 것.\n",
        "(2,3)에서 , 앞의 숫자는 가로줄 , 뒤에는 세로줄을 의미한다.\n"
      ],
      "metadata": {
        "id": "lZdKEZo4_UgL"
      }
    },
    {
      "cell_type": "code",
      "source": [
        "x=np.array([[[1,2,3],[4,5,6]],[[7,8,9],[10,11,12]]])\n",
        "print(x)\n",
        "x.shape"
      ],
      "metadata": {
        "id": "BgSL9TnN_V3x",
        "outputId": "a1bdc3bb-8db4-4c9b-9b2c-513232239bf8",
        "colab": {
          "base_uri": "https://localhost:8080/"
        }
      },
      "execution_count": 29,
      "outputs": [
        {
          "output_type": "stream",
          "name": "stdout",
          "text": [
            "[[[ 1  2  3]\n",
            "  [ 4  5  6]]\n",
            "\n",
            " [[ 7  8  9]\n",
            "  [10 11 12]]]\n"
          ]
        },
        {
          "output_type": "execute_result",
          "data": {
            "text/plain": [
              "(2, 2, 3)"
            ]
          },
          "metadata": {},
          "execution_count": 29
        }
      ]
    },
    {
      "cell_type": "markdown",
      "source": [
        "X는 대괄호가 3개이기에 3d이고 (2,3,3)에서 2는 큰 덩어리, 첫번째 3은 한 덩어리 안에 있는 list의 개수, 두번째 3은 list 안에 들어있는 숫자의 개수를 의미한다."
      ],
      "metadata": {
        "id": "-n9NCe5E_yxN"
      }
    },
    {
      "cell_type": "code",
      "source": [
        "x=np.ones([2,2,3])\n",
        "x"
      ],
      "metadata": {
        "id": "C_umLhA6_2fW",
        "outputId": "7662a047-fac5-4ba9-e711-3ae8eeb7bc64",
        "colab": {
          "base_uri": "https://localhost:8080/"
        }
      },
      "execution_count": 34,
      "outputs": [
        {
          "output_type": "execute_result",
          "data": {
            "text/plain": [
              "array([[[1., 1., 1.],\n",
              "        [1., 1., 1.]],\n",
              "\n",
              "       [[1., 1., 1.],\n",
              "        [1., 1., 1.]]])"
            ]
          },
          "metadata": {},
          "execution_count": 34
        }
      ]
    },
    {
      "cell_type": "markdown",
      "source": [
        "[2,2,3]으로 구성된 것을 모두 1로 만들어라   \n",
        "zeros도 똑같음"
      ],
      "metadata": {
        "id": "SvkiRK6AAJUM"
      }
    },
    {
      "cell_type": "markdown",
      "source": [
        "Thetal=np.linspace(0,2*np.pi, 100) 0~2pi까지 100개의 숫자를 만들어라  \n",
        "S1= np.sin(thetal) \n",
        "Plt.subplot(2,1,1) subplot은 칸을 만드는거 ( ) 안에 2는 가로줄 1은 세로줄이고 마지막 1은 만들어진 칸들 중 1번째 칸에 그리겠다.  \n",
        "Plt.plot (thetal, s1, ‘.’) plot은 도형 그리기 thetal은 x축, s1은 y축, ‘.’ 은 .으로 그리겠다는 의미"
      ],
      "metadata": {
        "id": "9tjrexQCASXM"
      }
    },
    {
      "cell_type": "code",
      "source": [
        "import matplotlib.pyplot as plt"
      ],
      "metadata": {
        "id": "vdD7xMtRBlPF"
      },
      "execution_count": 42,
      "outputs": []
    },
    {
      "cell_type": "code",
      "source": [
        "plt.figure()\n",
        "\n",
        "thetal1=np.linspace(0,2*np.pi,100)\n",
        "s1=np.sin(thetal1)\n",
        "thetal2=np.linspace(0,2*np.pi,100)+np.pi/2\n",
        "s2=np.sin(thetal2)\n",
        "\n",
        "plt.subplot(2,1,1)\n",
        "plt.plot(thetal1,s1,'.')\n",
        "plt.subplot(2,1,2)\n",
        "plt.plot(thetal2,s2,'.')"
      ],
      "metadata": {
        "id": "hQLSeIbgAZ--",
        "outputId": "dc0c4c9f-aff5-4235-8893-562d815fb46e",
        "colab": {
          "base_uri": "https://localhost:8080/",
          "height": 283
        }
      },
      "execution_count": 54,
      "outputs": [
        {
          "output_type": "execute_result",
          "data": {
            "text/plain": [
              "[<matplotlib.lines.Line2D at 0x7fa6a29a6750>]"
            ]
          },
          "metadata": {},
          "execution_count": 54
        },
        {
          "output_type": "display_data",
          "data": {
            "text/plain": [
              "<Figure size 432x288 with 2 Axes>"
            ],
            "image/png": "[encoded data removed]"
          },
          "metadata": {
            "needs_background": "light"
          }
        }
      ]
    },
    {
      "cell_type": "markdown",
      "source": [
        "plt.figure()는 왜 필요한지 궁금하다  \n",
        "뭐로 그리지 설정 안하면 알아서 선으로 그려줌"
      ],
      "metadata": {
        "id": "3GUgD79wCQNk"
      }
    },
    {
      "cell_type": "markdown",
      "source": [
        "Correlation coef  -1<=r<=1 "
      ],
      "metadata": {
        "id": "VljJ9IV3Cgom"
      }
    },
    {
      "cell_type": "code",
      "source": [
        "np.corrcoef(s1,s2)"
      ],
      "metadata": {
        "id": "Oe9rbdu1Clir",
        "outputId": "857d3b40-9499-49e8-89d9-8b337889bd23",
        "colab": {
          "base_uri": "https://localhost:8080/"
        }
      },
      "execution_count": 55,
      "outputs": [
        {
          "output_type": "execute_result",
          "data": {
            "text/plain": [
              "array([[1.00000000e+00, 2.41915449e-17],\n",
              "       [2.41915449e-17, 1.00000000e+00]])"
            ]
          },
          "metadata": {},
          "execution_count": 55
        }
      ]
    },
    {
      "cell_type": "markdown",
      "source": [
        "왜 하나의 값이 아니라 여러 개? 맨 처음과 끝에 나오는 숫자는 무조건 0이기에 버리고 두번쨰 세번째 숫자도 같은 값이기에 결과적으로 하나의 값이 나오는 것!\n",
        "R의 절대값이 1에 가까우면 더 많이 비례하고 r의 절대값이 0에 가까우면 비례하지 않고 넓게 분산되어 있다는 뜻\n",
        "e-17은 10의 -17제곱이기 때문에 0이다.\n"
      ],
      "metadata": {
        "id": "OgtLu8RdC5GH"
      }
    }
  ]
}