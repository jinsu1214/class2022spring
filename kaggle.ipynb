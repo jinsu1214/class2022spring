{
  "nbformat": 4,
  "nbformat_minor": 0,
  "metadata": {
    "colab": {
      "name": "Untitled19.ipynb",
      "provenance": [],
      "authorship_tag": "ABX9TyNLELnuWRL0/eRpCKYK3vtv",
      "include_colab_link": true
    },
    "kernelspec": {
      "name": "python3",
      "display_name": "Python 3"
    },
    "language_info": {
      "name": "python"
    }
  },
  "cells": [
    {
      "cell_type": "markdown",
      "metadata": {
        "id": "view-in-github",
        "colab_type": "text"
      },
      "source": [
        "<a href=\"https://colab.research.google.com/github/jinsu1214/class2022spring/blob/main/kaggle.ipynb\" target=\"_parent\"><img src=\"https://colab.research.google.com/assets/colab-badge.svg\" alt=\"Open In Colab\"/></a>"
      ]
    },
    {
      "cell_type": "markdown",
      "source": [
        "kaggle에도 계정을 가지고 있으면 좋다. 주로 데이터들을 저장하는 곳이다. 학생들이 competition을 많이 들어간다. active한 competition이 있고 상금이 걸려 있다.   \n",
        "지금까지 만들었던 ipynb파일을 notebook이라고 부른다.  \n",
        "가장 인기 많은 데이터는 대추와 관련된 파일. 들어가면 엑셀 파일을 공유하고 옆에 summary에 column 정보를 공유하고 잇다. 관련된 notebook이 37개나 있다. date를 여러 정보로 분석하고 어떤 종류의 대추인지 class로 보여주고 있다. 마지막에 있는 것이 결과값 즉 출력  \n",
        "이걸로 train하면 dataset에 들어가있지 않은 대추라고 하더라도 train된 정보를 기반으로 해서 어떠한 종류의 대추인지 말해줄 것이다.  \n",
        "엑세레이는 데이터 정보가 아니라 이미지 정보가 필요하다. 오른쪽에 data exploer를 보면 train이 있고 val 이 있는데 이것으로 모델을 훈련하다고 보면 된다. train 데이터를 가지고 모델을 만든다. val은 내가 잘하고 있는지 체크용으로 쓰인다. 성능이 어느정도 되는지 테스트해야 한다. normal 데이터를 보면 매우 깨끗한 폐의 엑스레이를 볼 수 있다.  \n",
        "하지만 뉴모니아를 보면 바이러스나 박테리아에 의해 약간 다른 이미지를 보여준다."
      ],
      "metadata": {
        "id": "TxPlBj7mvKC0"
      }
    },
    {
      "cell_type": "markdown",
      "source": [
        "time series 는 아주 중요한 용어이다. 입력이 시간인 모든 데이터를 time series라고 한다. 예를 들어서 x축이 시간이 되는 소리 데이터, 주가 데이터, 환율 데이터, 로켓의 위치 데이터 등이 모두 time series이다. 사람의 언어, 글로 적는 것도 왼쪽에 있는 글자가 오른쪽에 있는 글자보다 시간적으로 앞서기 떄문에 time series이다. "
      ],
      "metadata": {
        "id": "8kRLn2OTtTjN"
      }
    },
    {
      "cell_type": "markdown",
      "source": [
        "한국 데이터는 ai 허브 를 검색하자. 데이터 구축 사업에 한국이 많은 돈을 투자하였다. 한국지능정보사회진흥원, nia 에서 데이터 구축 사업에 굉장히 많은 돈을 쓰고 있다. 조 단위가 넘는다. nia에서 만든 데이터가 ai 허브이다.  "
      ],
      "metadata": {
        "id": "Rq4x3ywet6Jo"
      }
    },
    {
      "cell_type": "markdown",
      "source": [
        "미디어젠 한국정보진흥원가 남즈 연구소다.    \n",
        "ai 허브를 보면 nia를 통해 인공적으로 만든 데이터이다. 공공 데이터는 현재 실존하는 정보를 잘 모아서 데이터를 만든 것이다. "
      ],
      "metadata": {
        "id": "T2DOMyjOu2Bj"
      }
    }
  ]
}