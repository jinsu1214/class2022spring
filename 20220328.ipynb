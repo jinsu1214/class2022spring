{
  "nbformat": 4,
  "nbformat_minor": 0,
  "metadata": {
    "colab": {
      "name": "Untitled2.ipynb",
      "provenance": [],
      "authorship_tag": "ABX9TyPGa5NEzm0NxKIcN4n/NOQZ",
      "include_colab_link": true
    },
    "kernelspec": {
      "name": "python3",
      "display_name": "Python 3"
    },
    "language_info": {
      "name": "python"
    }
  },
  "cells": [
    {
      "cell_type": "markdown",
      "metadata": {
        "id": "view-in-github",
        "colab_type": "text"
      },
      "source": [
        "<a href=\"https://colab.research.google.com/github/jinsu1214/class2022spring/blob/main/20220328.ipynb\" target=\"_parent\"><img src=\"https://colab.research.google.com/assets/colab-badge.svg\" alt=\"Open In Colab\"/></a>"
      ]
    },
    {
      "cell_type": "code",
      "execution_count": null,
      "metadata": {
        "id": "F5cfe7VioS6J"
      },
      "outputs": [],
      "source": [
        "!pip install gradio\n",
        "import gradio as gr\n",
        "import requests\n",
        "import pandas as pd"
      ]
    },
    {
      "cell_type": "code",
      "source": [
        "def test(searchYear):\n",
        "  URL = ('http://apis.data.go.kr/B552061/AccidentDeath/getRestTrafficAccidentDeath?searchYear='+searchYear+'&ServiceKey=E4Emnq3vqP7veXrsgGXfs8CXHBVs6hADJSKFxOvjdpZFwk8Dja%2B2S1sd9tyFcGgQ3xsF2PeYw%2BAlLpC5ILk2Zg%3D%3D&siDo=1100&guGun=1106&numOfRows=20&pageNo=1&returntype=json')\n",
        "  \n",
        "  response = requests.get(URL)\n",
        "  r = response.json()\n",
        "  items = r['items']['item']\n",
        "  \n",
        "  occrrnc_lc_sido_cd = [it['occrrnc_lc_sido_cd'] for it in items]\n",
        "  occrrnc_lc_sgg_cd = [it['occrrnc_lc_sgg_cd'] for it in items]\n",
        "  acc_year = [it['acc_year'] for it in items]\n",
        "  occrrnc_dt = [it['occrrnc_dt'] for it in items]\n",
        "  dth_dnv_cnt = [it['dth_dnv_cnt'] for it in items]\n",
        "  injpsn_cnt = [it['injpsn_cnt'] for it in items]\n",
        "  \n",
        "  occrrnc_lc_sido_cd = pd.Series('occrrnc_lc_sido_cd')\n",
        "  occrrnc_lc_sgg_cd = pd.Series('occrrnc_lc_sgg_cd')\n",
        "  acc_year = pd.Series('acc_year')\n",
        "  occrrnc_dt = pd.Series('occrrnc_dt')\n",
        "  dth_dnv_cnt = pd.Series('dth_dnv_cnt')\n",
        "  injpsn_cnt = pd.Series('injpsn_cnt')\n",
        "  \n",
        "  df = pd.DataFrame({'occrrnc_lc_sido_cd':occrrnc_lc_sido_cd, 'occrrnc_lc_sgg_cd':occrrnc_lc_sgg_cd, 'acc_year':acc_year, 'occrrnc_dt':occrrnc_dt, 'dth_dnv_cnt':dth_dnv_cnt, 'injpsn_cnt':injpsn_cnt})\n",
        "  return df                     "
      ],
      "metadata": {
        "id": "Hc_e30M3Yb3c"
      },
      "execution_count": 133,
      "outputs": []
    },
    {
      "cell_type": "code",
      "source": [
        "df"
      ],
      "metadata": {
        "colab": {
          "base_uri": "https://localhost:8080/",
          "height": 81
        },
        "id": "zdW4TVoKlzfX",
        "outputId": "d57452ec-c02e-4006-c05e-82cec3726aab"
      },
      "execution_count": 134,
      "outputs": [
        {
          "output_type": "execute_result",
          "data": {
            "text/plain": [
              "             발생위치시도코드          발생위치시군구코드       발생월일시         사망자수        부상자수\n",
              "0  occrrnc_lc_sido_cd  occrrnc_lc_sgg_cd  occrrnc_dt  dth_dnv_cnt  injpsn_cnt"
            ],
            "text/html": [
              "\n",
              "  <div id=\"df-37b2ece1-7866-4ab8-8234-96dcfeafd85a\">\n",
              "    <div class=\"colab-df-container\">\n",
              "      <div>\n",
              "<style scoped>\n",
              "    .dataframe tbody tr th:only-of-type {\n",
              "        vertical-align: middle;\n",
              "    }\n",
              "\n",
              "    .dataframe tbody tr th {\n",
              "        vertical-align: top;\n",
              "    }\n",
              "\n",
              "    .dataframe thead th {\n",
              "        text-align: right;\n",
              "    }\n",
              "</style>\n",
              "<table border=\"1\" class=\"dataframe\">\n",
              "  <thead>\n",
              "    <tr style=\"text-align: right;\">\n",
              "      <th></th>\n",
              "      <th>발생위치시도코드</th>\n",
              "      <th>발생위치시군구코드</th>\n",
              "      <th>발생월일시</th>\n",
              "      <th>사망자수</th>\n",
              "      <th>부상자수</th>\n",
              "    </tr>\n",
              "  </thead>\n",
              "  <tbody>\n",
              "    <tr>\n",
              "      <th>0</th>\n",
              "      <td>occrrnc_lc_sido_cd</td>\n",
              "      <td>occrrnc_lc_sgg_cd</td>\n",
              "      <td>occrrnc_dt</td>\n",
              "      <td>dth_dnv_cnt</td>\n",
              "      <td>injpsn_cnt</td>\n",
              "    </tr>\n",
              "  </tbody>\n",
              "</table>\n",
              "</div>\n",
              "      <button class=\"colab-df-convert\" onclick=\"convertToInteractive('df-37b2ece1-7866-4ab8-8234-96dcfeafd85a')\"\n",
              "              title=\"Convert this dataframe to an interactive table.\"\n",
              "              style=\"display:none;\">\n",
              "        \n",
              "  <svg xmlns=\"http://www.w3.org/2000/svg\" height=\"24px\"viewBox=\"0 0 24 24\"\n",
              "       width=\"24px\">\n",
              "    <path d=\"M0 0h24v24H0V0z\" fill=\"none\"/>\n",
              "    <path d=\"M18.56 5.44l.94 2.06.94-2.06 2.06-.94-2.06-.94-.94-2.06-.94 2.06-2.06.94zm-11 1L8.5 8.5l.94-2.06 2.06-.94-2.06-.94L8.5 2.5l-.94 2.06-2.06.94zm10 10l.94 2.06.94-2.06 2.06-.94-2.06-.94-.94-2.06-.94 2.06-2.06.94z\"/><path d=\"M17.41 7.96l-1.37-1.37c-.4-.4-.92-.59-1.43-.59-.52 0-1.04.2-1.43.59L10.3 9.45l-7.72 7.72c-.78.78-.78 2.05 0 2.83L4 21.41c.39.39.9.59 1.41.59.51 0 1.02-.2 1.41-.59l7.78-7.78 2.81-2.81c.8-.78.8-2.07 0-2.86zM5.41 20L4 18.59l7.72-7.72 1.47 1.35L5.41 20z\"/>\n",
              "  </svg>\n",
              "      </button>\n",
              "      \n",
              "  <style>\n",
              "    .colab-df-container {\n",
              "      display:flex;\n",
              "      flex-wrap:wrap;\n",
              "      gap: 12px;\n",
              "    }\n",
              "\n",
              "    .colab-df-convert {\n",
              "      background-color: #E8F0FE;\n",
              "      border: none;\n",
              "      border-radius: 50%;\n",
              "      cursor: pointer;\n",
              "      display: none;\n",
              "      fill: #1967D2;\n",
              "      height: 32px;\n",
              "      padding: 0 0 0 0;\n",
              "      width: 32px;\n",
              "    }\n",
              "\n",
              "    .colab-df-convert:hover {\n",
              "      background-color: #E2EBFA;\n",
              "      box-shadow: 0px 1px 2px rgba(60, 64, 67, 0.3), 0px 1px 3px 1px rgba(60, 64, 67, 0.15);\n",
              "      fill: #174EA6;\n",
              "    }\n",
              "\n",
              "    [theme=dark] .colab-df-convert {\n",
              "      background-color: #3B4455;\n",
              "      fill: #D2E3FC;\n",
              "    }\n",
              "\n",
              "    [theme=dark] .colab-df-convert:hover {\n",
              "      background-color: #434B5C;\n",
              "      box-shadow: 0px 1px 3px 1px rgba(0, 0, 0, 0.15);\n",
              "      filter: drop-shadow(0px 1px 2px rgba(0, 0, 0, 0.3));\n",
              "      fill: #FFFFFF;\n",
              "    }\n",
              "  </style>\n",
              "\n",
              "      <script>\n",
              "        const buttonEl =\n",
              "          document.querySelector('#df-37b2ece1-7866-4ab8-8234-96dcfeafd85a button.colab-df-convert');\n",
              "        buttonEl.style.display =\n",
              "          google.colab.kernel.accessAllowed ? 'block' : 'none';\n",
              "\n",
              "        async function convertToInteractive(key) {\n",
              "          const element = document.querySelector('#df-37b2ece1-7866-4ab8-8234-96dcfeafd85a');\n",
              "          const dataTable =\n",
              "            await google.colab.kernel.invokeFunction('convertToInteractive',\n",
              "                                                     [key], {});\n",
              "          if (!dataTable) return;\n",
              "\n",
              "          const docLinkHtml = 'Like what you see? Visit the ' +\n",
              "            '<a target=\"_blank\" href=https://colab.research.google.com/notebooks/data_table.ipynb>data table notebook</a>'\n",
              "            + ' to learn more about interactive tables.';\n",
              "          element.innerHTML = '';\n",
              "          dataTable['output_type'] = 'display_data';\n",
              "          await google.colab.output.renderOutput(dataTable, element);\n",
              "          const docLink = document.createElement('div');\n",
              "          docLink.innerHTML = docLinkHtml;\n",
              "          element.appendChild(docLink);\n",
              "        }\n",
              "      </script>\n",
              "    </div>\n",
              "  </div>\n",
              "  "
            ]
          },
          "metadata": {},
          "execution_count": 134
        }
      ]
    },
    {
      "cell_type": "code",
      "source": [
        "iface = gr.Interface(test, gr.inputs.Dropdown(['2012','2013','2014','2015','2016','2017','2018','2019','2020']), outputs=['dataframe'])\n",
        "iface.launch(debug=True)"
      ],
      "metadata": {
        "colab": {
          "base_uri": "https://localhost:8080/",
          "height": 1000
        },
        "id": "zkMAvQ0ThlRS",
        "outputId": "af20d32f-ec9e-42a6-a563-9b1cf1a60036"
      },
      "execution_count": 130,
      "outputs": [
        {
          "output_type": "stream",
          "name": "stdout",
          "text": [
            "Colab notebook detected. This cell will run indefinitely so that you can see errors and logs. To turn off, set debug=False in launch().\n",
            "Running on public URL: https://43612.gradio.app\n",
            "\n",
            "This share link expires in 72 hours. For free permanent hosting, check out Spaces (https://huggingface.co/spaces)\n"
          ]
        },
        {
          "output_type": "display_data",
          "data": {
            "text/plain": [
              "<IPython.lib.display.IFrame at 0x7fb9ec54df50>"
            ],
            "text/html": [
              "\n",
              "        <iframe\n",
              "            width=\"900\"\n",
              "            height=\"500\"\n",
              "            src=\"https://43612.gradio.app\"\n",
              "            frameborder=\"0\"\n",
              "            allowfullscreen\n",
              "        ></iframe>\n",
              "        "
            ]
          },
          "metadata": {}
        },
        {
          "output_type": "stream",
          "name": "stderr",
          "text": [
            "Traceback (most recent call last):\n",
            "  File \"/usr/local/lib/python3.7/dist-packages/gradio/routes.py\", line 269, in predict\n",
            "    output = await run_in_threadpool(app.launchable.process_api, body, username)\n",
            "  File \"/usr/local/lib/python3.7/dist-packages/starlette/concurrency.py\", line 39, in run_in_threadpool\n",
            "    return await anyio.to_thread.run_sync(func, *args)\n",
            "  File \"/usr/local/lib/python3.7/dist-packages/anyio/to_thread.py\", line 29, in run_sync\n",
            "    limiter=limiter)\n",
            "  File \"/usr/local/lib/python3.7/dist-packages/anyio/_backends/_asyncio.py\", line 818, in run_sync_in_worker_thread\n",
            "    return await future\n",
            "  File \"/usr/local/lib/python3.7/dist-packages/anyio/_backends/_asyncio.py\", line 754, in run\n",
            "    result = context.run(func, *args)\n",
            "  File \"/usr/local/lib/python3.7/dist-packages/gradio/interface.py\", line 573, in process_api\n",
            "    prediction, durations = self.process(raw_input)\n",
            "  File \"/usr/local/lib/python3.7/dist-packages/gradio/interface.py\", line 616, in process\n",
            "    processed_input, return_duration=True\n",
            "  File \"/usr/local/lib/python3.7/dist-packages/gradio/interface.py\", line 531, in run_prediction\n",
            "    prediction = predict_fn(*processed_input)\n",
            "  File \"<ipython-input-129-446e43acf411>\", line 5, in test\n",
            "    r = response.json()\n",
            "  File \"/usr/local/lib/python3.7/dist-packages/requests/models.py\", line 898, in json\n",
            "    return complexjson.loads(self.text, **kwargs)\n",
            "  File \"/usr/lib/python3.7/json/__init__.py\", line 348, in loads\n",
            "    return _default_decoder.decode(s)\n",
            "  File \"/usr/lib/python3.7/json/decoder.py\", line 337, in decode\n",
            "    obj, end = self.raw_decode(s, idx=_w(s, 0).end())\n",
            "  File \"/usr/lib/python3.7/json/decoder.py\", line 355, in raw_decode\n",
            "    raise JSONDecodeError(\"Expecting value\", s, err.value) from None\n",
            "json.decoder.JSONDecodeError: Expecting value: line 1 column 1 (char 0)\n",
            "Traceback (most recent call last):\n",
            "  File \"/usr/local/lib/python3.7/dist-packages/gradio/routes.py\", line 269, in predict\n",
            "    output = await run_in_threadpool(app.launchable.process_api, body, username)\n",
            "  File \"/usr/local/lib/python3.7/dist-packages/starlette/concurrency.py\", line 39, in run_in_threadpool\n",
            "    return await anyio.to_thread.run_sync(func, *args)\n",
            "  File \"/usr/local/lib/python3.7/dist-packages/anyio/to_thread.py\", line 29, in run_sync\n",
            "    limiter=limiter)\n",
            "  File \"/usr/local/lib/python3.7/dist-packages/anyio/_backends/_asyncio.py\", line 818, in run_sync_in_worker_thread\n",
            "    return await future\n",
            "  File \"/usr/local/lib/python3.7/dist-packages/anyio/_backends/_asyncio.py\", line 754, in run\n",
            "    result = context.run(func, *args)\n",
            "  File \"/usr/local/lib/python3.7/dist-packages/gradio/interface.py\", line 573, in process_api\n",
            "    prediction, durations = self.process(raw_input)\n",
            "  File \"/usr/local/lib/python3.7/dist-packages/gradio/interface.py\", line 616, in process\n",
            "    processed_input, return_duration=True\n",
            "  File \"/usr/local/lib/python3.7/dist-packages/gradio/interface.py\", line 531, in run_prediction\n",
            "    prediction = predict_fn(*processed_input)\n",
            "  File \"<ipython-input-129-446e43acf411>\", line 5, in test\n",
            "    r = response.json()\n",
            "  File \"/usr/local/lib/python3.7/dist-packages/requests/models.py\", line 898, in json\n",
            "    return complexjson.loads(self.text, **kwargs)\n",
            "  File \"/usr/lib/python3.7/json/__init__.py\", line 348, in loads\n",
            "    return _default_decoder.decode(s)\n",
            "  File \"/usr/lib/python3.7/json/decoder.py\", line 337, in decode\n",
            "    obj, end = self.raw_decode(s, idx=_w(s, 0).end())\n",
            "  File \"/usr/lib/python3.7/json/decoder.py\", line 355, in raw_decode\n",
            "    raise JSONDecodeError(\"Expecting value\", s, err.value) from None\n",
            "json.decoder.JSONDecodeError: Expecting value: line 1 column 1 (char 0)\n"
          ]
        },
        {
          "output_type": "stream",
          "name": "stdout",
          "text": [
            "Keyboard interruption in main thread... closing server.\n"
          ]
        },
        {
          "output_type": "execute_result",
          "data": {
            "text/plain": [
              "(<fastapi.applications.FastAPI at 0x7fb9f622ae10>,\n",
              " 'http://127.0.0.1:7860/',\n",
              " 'https://43612.gradio.app')"
            ]
          },
          "metadata": {},
          "execution_count": 130
        }
      ]
    }
  ]
}