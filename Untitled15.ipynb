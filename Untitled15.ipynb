{
  "nbformat": 4,
  "nbformat_minor": 0,
  "metadata": {
    "colab": {
      "name": "Untitled15.ipynb",
      "provenance": [],
      "authorship_tag": "ABX9TyN7r9qFbd1cm05QyilXdRFO",
      "include_colab_link": true
    },
    "kernelspec": {
      "name": "python3",
      "display_name": "Python 3"
    },
    "language_info": {
      "name": "python"
    }
  },
  "cells": [
    {
      "cell_type": "markdown",
      "metadata": {
        "id": "view-in-github",
        "colab_type": "text"
      },
      "source": [
        "<a href=\"https://colab.research.google.com/github/jinsu1214/class2022spring/blob/main/Untitled15.ipynb\" target=\"_parent\"><img src=\"https://colab.research.google.com/assets/colab-badge.svg\" alt=\"Open In Colab\"/></a>"
      ]
    },
    {
      "cell_type": "markdown",
      "source": [
        "how to use를 그데로 복사해오면 된다. 하지만 몇번의 에러가 발생할 것이다. 따라서 에러를 수정해 나다는 과정이 필요하다.  \n",
        "ai모델은 행렬셋이다. 모델을 써서 출력을 하는 것을 inference라고 한다. 민들어진 행렬을 가지고 입력을 넣어서 출력 값을 구하는 것을 inference라고 한다.  \n",
        "example 쓸 때는 항상 list화 해서 적는다."
      ],
      "metadata": {
        "id": "0MhZb8qR_1VQ"
      }
    }
  ]
}