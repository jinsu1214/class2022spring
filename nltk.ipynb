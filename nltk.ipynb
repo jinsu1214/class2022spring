{
  "nbformat": 4,
  "nbformat_minor": 0,
  "metadata": {
    "colab": {
      "name": "Untitled8.ipynb",
      "provenance": [],
      "authorship_tag": "ABX9TyN2s+N1WvmXllYIlUc2Q0W8",
      "include_colab_link": true
    },
    "kernelspec": {
      "name": "python3",
      "display_name": "Python 3"
    },
    "language_info": {
      "name": "python"
    }
  },
  "cells": [
    {
      "cell_type": "markdown",
      "metadata": {
        "id": "view-in-github",
        "colab_type": "text"
      },
      "source": [
        "<a href=\"https://colab.research.google.com/github/jinsu1214/class2022spring/blob/main/nltk.ipynb\" target=\"_parent\"><img src=\"https://colab.research.google.com/assets/colab-badge.svg\" alt=\"Open In Colab\"/></a>"
      ]
    },
    {
      "cell_type": "code",
      "execution_count": null,
      "metadata": {
        "id": "BZML0zl2i8Xb"
      },
      "outputs": [],
      "source": [
        "import nltk"
      ]
    },
    {
      "cell_type": "markdown",
      "source": [
        "natural language 라는 말은 artificial language의 반대말이다. 컴퓨터 언어가 인공적 언어이다. 자연적 언어는 사람의 언어를 그렇다고 말할 수 있다.   \n",
        "tokenization은 긴 글을 단어 단어로 짜르는 것을 말한다.  \n",
        "stopword는 a나 the, is같은 불용어들을 모아놓은 단어를 말한다. \n",
        "collocation은 우리말로 연어라고 한다. 수거가 대표적이다. take care이런 것이다. 사람이름 같은 경우에도 마이클 스미스면 이 둘은 계속해서 연결해서 나온다. concordance는 어떤 특정 단어에서 그 용례가 어떻게 되는지 말해준다. would가 어떻게 큰 concordance에서 어떻게 사용되었는지 편하게 용롈르 찾아준다.  \n",
        "frequency는 가장 중요하다. 어떤 단어가 많이 쓰였는지 보는 것이 문서의 정의를 내리는데에 유용하다.  \n",
        "Dictionary도 통으로 불러와서 쓸 수 있다.  \n",
        "pos tag는 품사이다. 품사들의 정의와 설명, 예가 정의되어 있다.  \n",
        "wordcloud는 frequency를 기반으로 해서 텍스트에 어떤 단어가 많이 나왔는지, 단어의 빈도별로 글자의 크기를 다르게 해서 비쥬얼라이즈해주는 것이다.\n",
        "regular expression은 말 그대로 규칙을 표현하는 것이다. 규칙을 표현해서 어떤 텍스트에 조작이나 서치를 하고 싶을 떄 규칙을 이용해 찾아내는 것이다. 워드파일이 있을 때 서치를 할 때 구글에서 서치할 때 더블 쿼트를 쓴다거나 여러 표시를 해서 서치 옵션을 다양하게 할 수 있는데 여기서 할 수 있는거는 더 다양하게 서치를 할 수 있다. 따라서 규칙을 쓸 수 있어야 하고 이를 regular expression이라고 한다. regular expression은 매우 중요하다."
      ],
      "metadata": {
        "id": "7Lv8LLcfjCqw"
      }
    }
  ]
}